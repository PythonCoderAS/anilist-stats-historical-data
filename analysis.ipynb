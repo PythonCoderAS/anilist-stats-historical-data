{
 "cells": [
  {
   "cell_type": "code",
   "execution_count": null,
   "id": "c6348b4b",
   "metadata": {},
   "outputs": [],
   "source": [
    "import pandas\n",
    "import requests"
   ]
  },
  {
   "cell_type": "code",
   "execution_count": null,
   "id": "9cc5a83d",
   "metadata": {},
   "outputs": [],
   "source": [
    "\n",
    "import time\n",
    "query = \"\"\"\n",
    "query($page:Int) {\n",
    "  SiteStatistics {\n",
    "    anime(page:$page, perPage: 25, sort: DATE_DESC) {\n",
    "      nodes {\n",
    "        date\n",
    "        count\n",
    "      }\n",
    "    }\n",
    "    manga(page:$page, perPage: 25, sort: DATE_DESC) {\n",
    "      nodes {\n",
    "        date\n",
    "        count\n",
    "      }\n",
    "    }\n",
    "    characters(page:$page, perPage: 25, sort: DATE_DESC) {\n",
    "      nodes {\n",
    "        date\n",
    "        count\n",
    "      }\n",
    "    }\n",
    "    staff(page:$page, perPage: 25, sort: DATE_DESC) {\n",
    "      nodes {\n",
    "        date\n",
    "        count\n",
    "      }\n",
    "    }\n",
    "  }\n",
    "}\n",
    "\"\"\"\n",
    "\n",
    "all_data = []\n",
    "for page in range(1, 55 + 1):\n",
    "    variables = {\n",
    "        'page': page\n",
    "    }\n",
    "    response = requests.post('https://graphql.anilist.co', json={'query': query, 'variables': variables})\n",
    "    response.raise_for_status()\n",
    "    data = response.json()\n",
    "    all_data.append(data)\n",
    "    time.sleep(1)"
   ]
  },
  {
   "cell_type": "code",
   "execution_count": null,
   "id": "499f76b1",
   "metadata": {},
   "outputs": [],
   "source": [
    "import datetime\n",
    "\n",
    "data: dict[str, dict[datetime.date, int]] = dict(anime={}, manga={}, characters={}, staff={})\n",
    "for page in all_data:\n",
    "    for key in data:\n",
    "        for node in page['data']['SiteStatistics'][key]['nodes']:\n",
    "            date = datetime.datetime.fromtimestamp(node['date']).date()\n",
    "            count = node['count']\n",
    "            data[key][date] = count"
   ]
  },
  {
   "cell_type": "code",
   "execution_count": 13,
   "id": "b861f75b",
   "metadata": {},
   "outputs": [],
   "source": [
    "rows: list[tuple[datetime.date, str, int]] = []\n",
    "# Tabular format: (date (YYYY-MM-DD), category, count)\n",
    "for key in data:\n",
    "    for date, count in data[key].items():\n",
    "        rows.append((date, key, count))\n",
    "\n",
    "rows.sort()"
   ]
  },
  {
   "cell_type": "code",
   "execution_count": 15,
   "id": "b7823cec",
   "metadata": {},
   "outputs": [],
   "source": [
    "import json\n",
    "json_data = [[date.isoformat(), key, count] for (date, key, count) in rows]\n",
    "with open(\"data.json\", \"w\", encoding=\"utf-8\") as f:\n",
    "    json.dump(json_data, f)"
   ]
  }
 ],
 "metadata": {
  "kernelspec": {
   "display_name": "Python 3 (ipykernel)",
   "language": "python",
   "name": "python3"
  },
  "language_info": {
   "codemirror_mode": {
    "name": "ipython",
    "version": 3
   },
   "file_extension": ".py",
   "mimetype": "text/x-python",
   "name": "python",
   "nbconvert_exporter": "python",
   "pygments_lexer": "ipython3",
   "version": "3.11.2"
  }
 },
 "nbformat": 4,
 "nbformat_minor": 5
}
